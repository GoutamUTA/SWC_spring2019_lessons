{
 "cells": [
  {
   "cell_type": "markdown",
   "metadata": {},
   "source": [
    "# Writing reports with Jupyter notebook\n",
    "\n",
    "**Anna Williford**\n",
    "\n",
    "_February 2019_\n",
    "\n",
    "***\n"
   ]
  },
  {
   "cell_type": "markdown",
   "metadata": {},
   "source": [
    "## The value of jupyter notebook:  \n",
    "Implementation of **reproducible reaserach** and **literate programming**\n"
   ]
  },
  {
   "cell_type": "markdown",
   "metadata": {},
   "source": [
    "### Reproducible research<br>\n",
    "\n",
    "**Reproducibility vs Replicability**\n",
    "\n",
    "**Reproducibility:** a study is reproducible if the analysis is presented in a way that can be repeated exactly.  \n",
    "**Replicability:** independent verification of the results of the original study.\n",
    "\n",
    "If the code and the data are available, anyone can run the analysis again and get the exact same result = reproducibility  \n",
    "If the results of the independent study support the conclusions of the original study = replicability\n",
    "\n",
    "**Reproducibility != Replicability**\n",
    "\n",
    "> So reproducibility is important not because it ensures that the results are correct, but rather because it ensures\n",
    "> transparency and gives us confidence in understanding exactly what was done.<br>\n",
    ">\n",
    "> `-` [Roger Peng](https://simplystatistics.org/2014/06/06/the-real-reason-reproducible-research-is-important/)\n",
    "\n",
    "\n",
    "Replicating studies are much harder than reproducing them. Ensuring reproducibility is the least we can do to make a study the best it can be.\n",
    "\n",
    "To accomplish reproducibility we need to record every step of data manipulation and analysis (write scripts, do not execute your commands in interactive mode)\n",
    "\n",
    "### Literate programming\n",
    "\n",
    "Literate programming is a way of writing programs that includes an explanation of the program's logic in a natural language together with computer code.\n",
    "\n",
    "\n",
    "#### Jupyter notebook allows us to implement both, reproducible research and literate programming by combining code with supporting text"
   ]
  },
  {
   "cell_type": "markdown",
   "metadata": {},
   "source": [
    "## Jupyter notebook"
   ]
  },
  {
   "cell_type": "markdown",
   "metadata": {},
   "source": [
    "Let's make a folder `Reports` in  `SWC_spring2019` directory. Open jupyter notebook and navigate to `Reports`folder. Rename it to `Markdown`and save.\n",
    "\n",
    "Untill now we have been using Jupyter notebook as a text editor to write Python code.\n",
    "You know how to enter and execute code in notebook's cells. Now let's see how to add text.\n",
    "\n",
    "There are three types of cells in Jupyter notebook: **Code**, **Markdown** and **Raw**.  \n",
    "By default, the cells have **Code** type, but you can change it using dropdown menu on the toolbar at the top of the notebook document. You can also change between cells using shortcuts.  Press `esc` to enable command mode, then press `h` to view shortcuts. We will convert our cells to markdown if we want the cell to display marked up-text."
   ]
  },
  {
   "cell_type": "markdown",
   "metadata": {},
   "source": [
    "### Markdown is a lightweight markup  language"
   ]
  },
  {
   "cell_type": "markdown",
   "metadata": {},
   "source": [
    "Markdown is a system for writing web pages by marking up the text much as you would in an email rather than writing html code. The marked-up text gets converted to html, replacing the marks with the proper html code. [Pandoc](https://pandoc.org/getting-started.html) is a program that converts markdown to html in the Jupyter notebook.\n"
   ]
  },
  {
   "cell_type": "markdown",
   "metadata": {},
   "source": [
    "**Here are some examples:**"
   ]
  },
  {
   "cell_type": "raw",
   "metadata": {},
   "source": [
    "Add headings:\n",
    "\n",
    "# Title\n",
    "## Title\n",
    "### Title"
   ]
  },
  {
   "cell_type": "markdown",
   "metadata": {},
   "source": [
    "This turns into:\n",
    "\n",
    "# Title\n",
    "## Title\n",
    "### Title"
   ]
  },
  {
   "cell_type": "raw",
   "metadata": {},
   "source": [
    "To make text bold, use double asterisks:\n",
    "**bold**"
   ]
  },
  {
   "cell_type": "markdown",
   "metadata": {},
   "source": [
    "**bold**"
   ]
  },
  {
   "cell_type": "raw",
   "metadata": {},
   "source": [
    "To make text italics, use underscores:\n",
    "_italics_"
   ]
  },
  {
   "cell_type": "markdown",
   "metadata": {},
   "source": [
    "_italics_"
   ]
  },
  {
   "cell_type": "markdown",
   "metadata": {},
   "source": [
    "See this [cheat sheet](http://assemble.io/docs/Cheatsheet-Markdown.html) for more features."
   ]
  },
  {
   "cell_type": "markdown",
   "metadata": {},
   "source": [
    "> **Challenge:**\n",
    "> Use the cheat sheet above to play with markdown"
   ]
  },
  {
   "cell_type": "markdown",
   "metadata": {},
   "source": [
    "### Exporting notebook"
   ]
  },
  {
   "cell_type": "markdown",
   "metadata": {},
   "source": [
    "Notebooks can be exported to various formats using Jupyter’s command-line tool [nbconvert]( http://nbconvert.readthedocs.io/en/latest/usage.html) <br>\n",
    "Here is an example of a command to turn notebook to specified FORMAT\n",
    "\n",
    "`$ jupyter nbconvert --to FORMAT notebook.ipynb`\n",
    "\n",
    "\n",
    "Supported output formats:\n",
    "\n",
    "- HTML\n",
    "- LaTeX\n",
    "- PDF\n",
    "- Reveal.js HTML slideshow\n",
    "- Markdown\n",
    "- reStructuredText\n",
    "- executable script\n",
    "- notebook\n",
    "\n",
    "Also, any notebook document available from a public URL on or GitHub can be shared via [nbviewer](https://nbviewer.jupyter.org/).<br>\n",
    "This service loads the notebook document from the URL and renders it as a static web page.<br>\n",
    "The resulting web page may thus be shared with others without their needing to install the Jupyter Notebook."
   ]
  },
  {
   "cell_type": "markdown",
   "metadata": {},
   "source": [
    "## Writing a report: example\n",
    "\n",
    "Let's work through an [example](https://github.com/uta-carpentries/SWC_spring2019_lessons/blob/master/Lesson6_GDP_report_Africa_Americas.ipynb) on the notebook with the analysis of our dataset.  \n",
    "* Download the notebook and save it in `Reports` folder. \n",
    "* Copy `gapminder.txt` to `Reports`"
   ]
  },
  {
   "cell_type": "markdown",
   "metadata": {},
   "source": [
    "## Write your own report\n",
    "You will now have about 30 min to work independently and write you own report.<br>\n",
    "Feel free to do one of the following depending on how comfortable you are with the material :<br>\n",
    "1. Write a report similar to the sample repot above, but include a third continent for comparison.\n",
    "2. Modify the example to compare GDP per capita for your favorite countries.\n",
    "3. Write your own report - investigate the data, plot whatever you want, have fun! \n",
    "\n",
    "When done, save it as html file or upload to Github and share it with a friend..."
   ]
  },
  {
   "cell_type": "markdown",
   "metadata": {},
   "source": [
    "## Resources:\n",
    "http://jupyter-notebook.readthedocs.io/en/stable/notebook.html  \n",
    "https://blog.dominodatalab.com/lesser-known-ways-of-using-notebooks/  \n",
    "https://www.dataquest.io/blog/jupyter-notebook-tips-tricks-shortcuts/"
   ]
  }
 ],
 "metadata": {
  "kernelspec": {
   "display_name": "Python 3",
   "language": "python",
   "name": "python3"
  },
  "language_info": {
   "codemirror_mode": {
    "name": "ipython",
    "version": 3
   },
   "file_extension": ".py",
   "mimetype": "text/x-python",
   "name": "python",
   "nbconvert_exporter": "python",
   "pygments_lexer": "ipython3",
   "version": "3.7.1"
  }
 },
 "nbformat": 4,
 "nbformat_minor": 2
}
